{
 "cells": [
  {
   "cell_type": "markdown",
   "id": "a2b8ae0b",
   "metadata": {},
   "source": [
    "# Training an LSTM network to detect punches during shadow boxing\n",
    "During this project I will be training a Long Short Term Memory (LSTM) network to detect which punch is being thrown during shadow boxing. This project was inspired by a talk given by [Zack Akil](https://github.com/ZackAkil) about using Google's VideoIntelligence API to analyse a penalty shootout, as well as [Anudeep Ayinaparthi](https://github.com/anudeepayina/CricketTracker)'s cricket shot classifier.\n",
    "\n",
    "### LSTM vs RNN\n",
    "An LSTM is a type of recurrent neural network (RNN), which is able to learn from longer sequences of input data than a regular RNN, without \"forgetting\" information from the earlier datapoints in the sequence. This problem is known as ['vanishing gradients'](https://towardsdatascience.com/the-exploding-and-vanishing-gradients-problem-in-time-series-6b87d558d22), and occurs due to the way RNNs are trained, where as gradients are passed back through the network during the backpropagation phase, they get smaller and smaller due to the chain rule and eventually become so small that they can not be used to update the weights and biases of the network (see also: [exploding gradients](https://towardsdatascience.com/the-exploding-and-vanishing-gradients-problem-in-time-series-6b87d558d22)). \n",
    "\n",
    "An LSTM network solves this problem through the a combination of 'forget gates', 'input gates' and 'output gates'. This combination of gates in an LSTM cell allows only the most salient signal information to be passed through the network, by using the *sigmoid* and *tanh* functions to compress information between the range of 0 and 1. This [article](https://towardsdatascience.com/illustrated-guide-to-lstms-and-gru-s-a-step-by-step-explanation-44e9eb85bf21) does a great job of explaining how these gates combine to achieve this.\n",
    "\n",
    "### Setup\n",
    "In this project we will be using Google Cloud Platform's *VideoIntelligence* API to analyse input videos, so we will need to set up our Google Cloud Platform account accordingly. A great guide for doing this can be found [here](https://github.com/google/making_with_ml/blob/master/sports_ai/Sports_AI_Analysis.ipynb)"
   ]
  },
  {
   "cell_type": "markdown",
   "id": "f92ebb08",
   "metadata": {},
   "source": [
    "### Importing libraries\n"
   ]
  },
  {
   "cell_type": "code",
   "execution_count": 1,
   "id": "d233f870",
   "metadata": {},
   "outputs": [],
   "source": [
    "import csv\n",
    "import json\n",
    "import math\n",
    "import os\n",
    "import sys\n",
    "\n",
    "import pandas as pd\n",
    "from PIL import Image, ImageDraw\n",
    "from matplotlib import pyplot as plt\n",
    "import numpy as np\n",
    "\n",
    "from google.cloud import videointelligence_v1 as videointelligence\n",
    "from google.oauth2 import service_account"
   ]
  },
  {
   "cell_type": "markdown",
   "id": "f8550c54",
   "metadata": {},
   "source": [
    "Set up GCP environment variables"
   ]
  },
  {
   "cell_type": "code",
   "execution_count": 802,
   "id": "f518cc4b",
   "metadata": {},
   "outputs": [],
   "source": [
    "os.environ[\"GOOGLE_APPLICATION_CREDENTIALS\"] = './PATH-TO-KEY.json' # This key is created in GCP and stored locally"
   ]
  },
  {
   "cell_type": "markdown",
   "id": "a489acb9",
   "metadata": {},
   "source": [
    "This function is taken from VideoIntelligence API documentation, found [here]( https://cloud.google.com/video-intelligence/docs/people-detection)"
   ]
  },
  {
   "cell_type": "code",
   "execution_count": 3,
   "id": "e91df0e7",
   "metadata": {},
   "outputs": [],
   "source": [
    "def detect_person(gcs_uri=\"gs://YOUR_BUCKET_ID/path/to/your/video.mp4\", output_uri=\"\"):\n",
    "    \"\"\"Detects people in a video.\"\"\"\n",
    "    client = videointelligence.VideoIntelligenceServiceClient()\n",
    "\n",
    "    # Configure the request\n",
    "    config = videointelligence.types.PersonDetectionConfig(\n",
    "        include_bounding_boxes=True,\n",
    "        include_attributes=True,\n",
    "        include_pose_landmarks=True,\n",
    "    )\n",
    "\n",
    "    context = videointelligence.types.VideoContext(person_detection_config=config)\n",
    "\n",
    "    # Start the asynchronous request\n",
    "    operation = client.annotate_video(\n",
    "        request={\n",
    "            \"features\": [videointelligence.Feature.PERSON_DETECTION],\n",
    "            \"input_uri\": gcs_uri,\n",
    "            \"output_uri\": output_uri,\n",
    "            \"video_context\": context,\n",
    "        }\n",
    "    )\n",
    "\n",
    "    print(\"\\nProcessing video for person detection annotations.\")\n",
    "    result = operation.result(timeout=300)\n",
    "\n",
    "    print(\"\\nFinished processing.\\n\")\n",
    "\n",
    "    # Retrieve the first result, because a single video was processed.\n",
    "    annotation_result = result.annotation_results[0]\n",
    "\n",
    "    for annotation in annotation_result.person_detection_annotations:\n",
    "        print(\"Person detected:\")\n",
    "        for track in annotation.tracks:\n",
    "            print(\n",
    "                \"Segment: {}s to {}s\".format(\n",
    "                    track.segment.start_time_offset.seconds\n",
    "                    + track.segment.start_time_offset.microseconds / 1e6,\n",
    "                    track.segment.end_time_offset.seconds\n",
    "                    + track.segment.end_time_offset.microseconds / 1e6,\n",
    "                )\n",
    "            )\n",
    "\n",
    "            # Each segment includes timestamped objects that include\n",
    "            # characteristics - -e.g.clothes, posture of the person detected.\n",
    "            # Grab the first timestamped object\n",
    "            timestamped_object = track.timestamped_objects[0]\n",
    "            box = timestamped_object.normalized_bounding_box\n",
    "            print(\"Bounding box:\")\n",
    "            print(\"\\tleft  : {}\".format(box.left))\n",
    "            print(\"\\ttop   : {}\".format(box.top))\n",
    "            print(\"\\tright : {}\".format(box.right))\n",
    "            print(\"\\tbottom: {}\".format(box.bottom))\n",
    "\n",
    "            # Attributes include unique pieces of clothing,\n",
    "            # poses, or hair color.\n",
    "            print(\"Attributes:\")\n",
    "            for attribute in timestamped_object.attributes:\n",
    "                print(\n",
    "                    \"\\t{}:{} {}\".format(\n",
    "                        attribute.name, attribute.value, attribute.confidence\n",
    "                    )\n",
    "                )\n",
    "\n",
    "            # Landmarks in person detection include body parts such as\n",
    "            # left_shoulder, right_ear, and right_ankle\n",
    "            print(\"Landmarks:\")\n",
    "            for landmark in timestamped_object.landmarks:\n",
    "                print(\n",
    "                    \"\\t{}: {} (x={}, y={})\".format(\n",
    "                        landmark.name,\n",
    "                        landmark.confidence,\n",
    "                        landmark.point.x,  # Normalized vertex\n",
    "                        landmark.point.y,  # Normalized vertex\n",
    "                    )\n",
    "                )\n",
    "\n",
    "    return annotation_result\n"
   ]
  },
  {
   "cell_type": "markdown",
   "id": "490ffc3a",
   "metadata": {},
   "source": [
    "Here we loop through all the required videos in the GCP bucket, calling the *detect_person* function on each and storing the results in another GCP bucket. \n",
    "NB: These files all exist in the repository so this is just to demonstrate how to use the VideoIntelligence API."
   ]
  },
  {
   "cell_type": "code",
   "execution_count": 801,
   "id": "54244b5a",
   "metadata": {},
   "outputs": [
    {
     "name": "stdout",
     "output_type": "stream",
     "text": [
      "\n"
     ]
    }
   ],
   "source": [
    "# Process all jab videos\n",
    "for i in range(1,50):\n",
    "    input_uri = 'gs://op-boxing-analysis2/LSTM_data/jab%i.mp4' %i\n",
    "    output_uri = \"gs://op-boxing-analysis2/jab%i.json\" %i\n",
    "    results = detect_person(input_uri, output_uri)\n",
    "\n",
    "# Process all cross videos\n",
    "for i in range(1,50):\n",
    "    input_uri = 'gs://op-boxing-analysis2/LSTM_data/cross%i.mp4' %i\n",
    "    output_uri = \"gs://op-boxing-analysis2/cross%i.json\" %i\n",
    "    results = detect_person(input_uri, output_uri)\n",
    "\n",
    "# Process all left hook videos    \n",
    "for i in range(1,50):\n",
    "    input_uri = 'gs://op-boxing-analysis2/LSTM_data/lefthook%i.mp4' %i\n",
    "    output_uri = \"gs://op-boxing-analysis2/lefthook%i.json\" %i\n",
    "    results = detect_person(input_uri, output_uri)\n",
    "\n",
    "# Process all right uppercut videos\n",
    "for i in range(1,50):    \n",
    "    input_uri = 'gs://op-boxing-analysis2/LSTM_data/rightuppercut%i.mp4' %i\n",
    "    output_uri = \"gs://op-boxing-analysis2/rightuppercut%i.json\" %i\n",
    "    results = detect_person(input_uri, output_uri)\n"
   ]
  },
  {
   "cell_type": "markdown",
   "id": "2c9a4981",
   "metadata": {},
   "source": [
    "Next, we copy all of the results files into our local *data* directory for processing NB: These files all exist in the repository so you do not need to do it again!"
   ]
  },
  {
   "cell_type": "code",
   "execution_count": 803,
   "id": "86eab2ad",
   "metadata": {},
   "outputs": [
    {
     "name": "stdout",
     "output_type": "stream",
     "text": [
      "\n"
     ]
    }
   ],
   "source": [
    "!gsutil -m cp \"gs://op-boxing-analysis2/*.json\" data"
   ]
  },
  {
   "cell_type": "markdown",
   "id": "4d639d9d",
   "metadata": {},
   "source": [
    "This helper function takes in a person and rearranges the data so it's in a timeline, which will make it easier for us to work with\n"
   ]
  },
  {
   "cell_type": "code",
   "execution_count": 6,
   "id": "222ab1eb",
   "metadata": {},
   "outputs": [],
   "source": [
    "def analyzePerson(person):\n",
    "  frames = []\n",
    "  for track in person['tracks']:\n",
    "    # Convert timestamps to seconds\n",
    "    for ts_obj in track['timestamped_objects']:\n",
    "      time_offset = ts_obj['time_offset']\n",
    "      timestamp = 0\n",
    "      if 'nanos' in time_offset:\n",
    "        timestamp += time_offset['nanos'] / 10**9\n",
    "      if 'seconds' in time_offset:\n",
    "        timestamp += time_offset['seconds']\n",
    "      if 'minutes' in time_offset:\n",
    "        timestamp += time_offset['minutes'] * 60\n",
    "      frame= {'timestamp' : timestamp}\n",
    "      for landmark in ts_obj['landmarks']:\n",
    "        frame[landmark['name'] + '_x'] = landmark['point']['x']\n",
    "        # Subtract y value from 1 because positions are calculated\n",
    "        # from the top left corner\n",
    "        frame[landmark['name'] + '_y'] = 1 - landmark['point']['y']\n",
    "      frames.append(frame)\n",
    "  sorted(frames, key=lambda x: x['timestamp'])\n",
    "  return frames"
   ]
  },
  {
   "cell_type": "markdown",
   "id": "e52d45da",
   "metadata": {},
   "source": [
    "Here we loop through all of the results files stored in the *data* directory, run the helper function on each, and then write the results to a new CSV file in the same directory. Alternatively, you could keep all these values only in memory but during development I wanted to have the results saved to disk for convenience."
   ]
  },
  {
   "cell_type": "code",
   "execution_count": 7,
   "id": "056df2d1",
   "metadata": {},
   "outputs": [],
   "source": [
    "for punch in os.listdir('data'):\n",
    "    if punch.split('.')[-1] != 'json':\n",
    "        continue\n",
    "    root = punch.split('.')[0]\n",
    "    fil = os.path.join('data', punch)\n",
    "    data = json.load(open(fil))\n",
    "    people_annotations = data['annotation_results'][0]['person_detection_annotations']\n",
    "    annotationsPd = pd.DataFrame(analyzePerson(people_annotations[0]))\n",
    "    annotationsPd = annotationsPd.sort_values('timestamp', ascending=True)\n",
    "    with open(os.path.join('data', root + '.csv'), 'w') as out:\n",
    "        annotationsPd.to_csv(out, index=False)\n"
   ]
  },
  {
   "cell_type": "markdown",
   "id": "2f693222",
   "metadata": {},
   "source": [
    "Here we define some helper functions that can augment our data by computing angles between the vectors joining up landmarks, such as the angle the upper and lower arm make at the elbow joint. This will be useful as we used a fixed camera to record videos front-on, there is no depth information when extending arms during a punch."
   ]
  },
  {
   "cell_type": "code",
   "execution_count": 145,
   "id": "becfd0c9",
   "metadata": {},
   "outputs": [],
   "source": [
    "class Point:\n",
    "  def __init__(self, x, y):\n",
    "    self.x = x\n",
    "    self.y = y "
   ]
  },
  {
   "cell_type": "code",
   "execution_count": 146,
   "id": "aa307460",
   "metadata": {},
   "outputs": [],
   "source": [
    "def getAngle(a, b, c):\n",
    "    ang = math.degrees(math.atan2(c.y-b.y, c.x-b.x) - math.atan2(a.y-b.y, a.x-b.x))\n",
    "    return ang"
   ]
  },
  {
   "cell_type": "code",
   "execution_count": 148,
   "id": "4428abbc",
   "metadata": {},
   "outputs": [],
   "source": [
    "def computeElbowAngle(row, which='right'):\n",
    "  wrist = Point(row[f'{which}_wrist_x'], row[f'{which}_wrist_y'])\n",
    "  elbow = Point(row[f'{which}_elbow_x'], row[f'{which}_elbow_y'])\n",
    "  shoulder = Point(row[f'{which}_shoulder_x'], row[f'{which}_shoulder_y'])\n",
    "  return getAngle(wrist, elbow, shoulder)\n",
    "\n",
    "def computeShoulderAngle(row, which='right'):\n",
    "  elbow = Point(row[f'{which}_elbow_x'], row[f'{which}_elbow_y'])\n",
    "  shoulder = Point(row[f'{which}_shoulder_x'], row[f'{which}_shoulder_y'])\n",
    "  hip = Point(row[f'{which}_hip_x'], row[f'{which}_hip_y'])\n",
    "  return getAngle(hip, shoulder, elbow)\n",
    "\n",
    "def computeKneeAngle(row, which='right'):\n",
    "  hip = Point(row[f'{which}_hip_x'], row[f'{which}_hip_y'])\n",
    "  knee = Point(row[f'{which}_knee_x'], row[f'{which}_knee_y'])\n",
    "  ankle = Point(row[f'{which}_ankle_x'], row[f'{which}_ankle_y'])\n",
    "  return getAngle(ankle, knee, hip)"
   ]
  },
  {
   "cell_type": "markdown",
   "id": "40349ffd",
   "metadata": {},
   "source": [
    "Here we read the CSV files previously created into memory and perform some data preprocessing, as well as storing the data labels to be used for training. \n",
    "- Firstly we need to make sure that all columns exist in every dataframe, if one does not exist then we will create it and fill with zeros. \n",
    "- We will drop the columns that track the position of the eyes and ears, as these are not expected to provide much information, and the nose position can be used as a proxy for head position. \n",
    "- For all of the positional data, we need to remove the timestamps and then normalize the landmark positions to be relative to the first position (this is because the start position of each video clip will not be the same).\n",
    "- We will also compute the angle data  and add these columns to the dataframe, after the other results have been normalised.\n",
    "\n",
    "This is done below:"
   ]
  },
  {
   "cell_type": "code",
   "execution_count": 750,
   "id": "49292f65",
   "metadata": {},
   "outputs": [],
   "source": [
    "import glob\n",
    "punches_normalised = []\n",
    "label_data = []\n",
    "for fil in glob.glob('data/*.csv'):\n",
    "    \n",
    "    # Read data and drop the superfluous columns\n",
    "    punch_data = pd.read_csv(fil)\n",
    "    punch_data = punch_data.drop(['timestamp','left_eye_x', 'left_eye_y',\n",
    "       'right_eye_x', 'right_eye_y', 'left_ear_x', 'left_ear_y', 'right_ear_x',\n",
    "       'right_ear_y'], axis=1)\n",
    "    \n",
    "    # Here we skip over the files for some of the classes,\n",
    "    # as we are focusing on just the Jab, Cross, Left hook and Right uppercut\n",
    "    if \"leftslip\" in fil:\n",
    "        continue\n",
    "    if \"rightslip\" in fil:\n",
    "        continue\n",
    "    if \"leftroll\" in fil:\n",
    "        continue\n",
    "    if \"rightroll\" in fil:\n",
    "        continue \n",
    "    if \"leftuppercut\" in fil:\n",
    "        continue\n",
    "    if \"righthook\" in fil:\n",
    "        continue\n",
    "\n",
    "    \n",
    "    # Check all columns are present, if not, create and fill with zeros\n",
    "    for col in ['nose_x', 'nose_y', 'left_shoulder_x', 'left_shoulder_y', 'right_shoulder_x',\n",
    "       'right_shoulder_y', 'left_elbow_x', 'left_elbow_y', 'right_elbow_x',\n",
    "       'right_elbow_y', 'left_wrist_x', 'left_wrist_y', 'right_wrist_x',\n",
    "       'right_wrist_y', 'left_hip_x', 'left_hip_y', 'right_hip_x',\n",
    "       'right_hip_y', 'left_knee_x', 'left_knee_y', 'right_knee_x',\n",
    "       'right_knee_y', 'left_ankle_x', 'left_ankle_y', 'right_ankle_x',\n",
    "       'right_ankle_y']:\n",
    "        if not col in punch_data.columns:\n",
    "            punch_data[col] = 0\n",
    "    \n",
    "    # Calculate angles\n",
    "    left_shoulder_angle = punch_data.apply(computeShoulderAngle, which='left',axis=1)\n",
    "    right_shoulder_angle = punch_data.apply(computeShoulderAngle,axis=1)\n",
    "\n",
    "    left_elbow_angle = punch_data.apply(computeElbowAngle, which='left',axis=1)\n",
    "    right_elbow_angle = punch_data.apply(computeElbowAngle,axis=1)\n",
    "\n",
    "    left_knee_angle = punch_data.apply(computeKneeAngle, which='left',axis=1)\n",
    "    right_knee_angle = punch_data.apply(computeKneeAngle,axis=1)\n",
    "    \n",
    "    \n",
    "    # Drop the superfluous columns\n",
    "    punch_data = punch_data.drop(['left_eye_x', 'left_eye_y',\n",
    "       'right_eye_x', 'right_eye_y', 'left_ear_x', 'left_ear_y', 'right_ear_x',\n",
    "       'right_ear_y'], axis=1)\n",
    "    \n",
    "    # Fill all null values with zeros and then normalise all positional data\n",
    "    punch_data = punch_data.fillna(0)\n",
    "    punch_data = punch_data.iloc[:,:] - punch_data.iloc[0,:]\n",
    "\n",
    "    # Finally, add the angle data to the dataframe\n",
    "    punch_data['left_shoulder_angle'] = left_shoulder_angle\n",
    "    punch_data['right_shoulder_angle'] = right_shoulder_angle\n",
    "    punch_data['left_elbow_angle'] = left_elbow_angle\n",
    "    punch_data['right_elbow_angle'] = right_elbow_angle\n",
    "    punch_data['left_knee_angle'] = left_knee_angle\n",
    "    punch_data['right_knee_angle'] = right_knee_angle\n",
    "    \n",
    "    # Append results to array containing data for each punch\n",
    "    punches_normalised.append(punch_data.values)\n",
    "    \n",
    "    # Get label data from file name and add to array containing labels\n",
    "    label_data.append(fil.split('/')[-1].split('.')[0].strip('0987654321'))\n"
   ]
  },
  {
   "cell_type": "markdown",
   "id": "ab712ad2",
   "metadata": {},
   "source": [
    "Here we can see that we have a total of 195 videos, with roughly 50 videos per class"
   ]
  },
  {
   "cell_type": "code",
   "execution_count": 787,
   "id": "5a195a9a",
   "metadata": {
    "scrolled": true
   },
   "outputs": [
    {
     "data": {
      "text/plain": [
       "195"
      ]
     },
     "execution_count": 787,
     "metadata": {},
     "output_type": "execute_result"
    }
   ],
   "source": [
    "len(punches_normalised)"
   ]
  },
  {
   "cell_type": "markdown",
   "id": "58f64229",
   "metadata": {},
   "source": [
    "If we look at the spread of the video lengths, we can see that the majority of sequences have length 21, while the longest is 33. As we want all sequences to be of the same length for training, we will use this information to pad the shorter sequences with zeros to simulate landmarks returning to their original positions. We also save the number of features that each punch has, to be used when defining the LSTM model."
   ]
  },
  {
   "cell_type": "code",
   "execution_count": 791,
   "id": "796233bb",
   "metadata": {},
   "outputs": [
    {
     "name": "stdout",
     "output_type": "stream",
     "text": [
      "Max length:  33\n",
      "Number of features:  32\n"
     ]
    },
    {
     "data": {
      "image/png": "[encoded data removed]",
      "text/plain": [
       "<Figure size 432x288 with 1 Axes>"
      ]
     },
     "metadata": {
      "needs_background": "light"
     },
     "output_type": "display_data"
    }
   ],
   "source": [
    "len_sequences = []\n",
    "for one_seq in punches_normalised:\n",
    "    len_sequences.append(len(one_seq))\n",
    "    \n",
    "pd.Series(len_sequences).hist()\n",
    "\n",
    "max_len = max(len_sequences)\n",
    "print(\"Max length: \", max_len )\n",
    "\n",
    "num_feats = punches_normalised[0].shape[1]\n",
    "print(\"Number of features: \", num_feats)\n"
   ]
  },
  {
   "cell_type": "markdown",
   "id": "2b11b153",
   "metadata": {},
   "source": [
    "Here we pad each punch in the sequence such that each has the same number of data points"
   ]
  },
  {
   "cell_type": "code",
   "execution_count": 755,
   "id": "d1e923d6",
   "metadata": {},
   "outputs": [],
   "source": [
    "from keras.preprocessing import sequence\n",
    "\n",
    "final_seq_punches=sequence.pad_sequences(punches_normalised, maxlen=max_len, padding='post', dtype='float')\n"
   ]
  },
  {
   "cell_type": "markdown",
   "id": "cffedff3",
   "metadata": {},
   "source": [
    "Now we can start to build our model. We will begin by importing all the necessary libraries."
   ]
  },
  {
   "cell_type": "code",
   "execution_count": 758,
   "id": "17b6bf40",
   "metadata": {},
   "outputs": [],
   "source": [
    "import pandas as pd\n",
    "import numpy as np\n",
    "from numpy import load\n",
    "from sklearn.preprocessing import LabelEncoder\n",
    "import matplotlib.pyplot as plt\n",
    "from keras.callbacks import ModelCheckpoint, EarlyStopping\n",
    "\n",
    "from tensorflow.keras.models import Sequential\n",
    "from keras.layers import LSTM, Dropout, Dense"
   ]
  },
  {
   "cell_type": "markdown",
   "id": "156ca80a",
   "metadata": {},
   "source": [
    "Let's create a train/test split using our data, stratifying on the label data to ensure that the split of classes is equal across training and testing data."
   ]
  },
  {
   "cell_type": "code",
   "execution_count": 796,
   "id": "7fe2b992",
   "metadata": {},
   "outputs": [],
   "source": [
    "from sklearn.model_selection import train_test_split\n",
    "x_train,x_test,y_train,y_test = train_test_split(final_seq_punches,label_data,test_size = 0.2, stratify=label_data)"
   ]
  },
  {
   "cell_type": "markdown",
   "id": "febdb0ed",
   "metadata": {},
   "source": [
    "Now we need to encode our labels to be used in training the model. This will encode the labels to integer values rather than one-hot encoding, hence when calculating the loss we will need to use *sparse categorical cross-entropy* rather than *categorical cross-entropy*."
   ]
  },
  {
   "cell_type": "code",
   "execution_count": 760,
   "id": "bc1d1666",
   "metadata": {},
   "outputs": [],
   "source": [
    "le = LabelEncoder()\n",
    "y_train = le.fit_transform(y_train)\n",
    "y_test = le.fit_transform(y_test)\n"
   ]
  },
  {
   "cell_type": "markdown",
   "id": "f62fa7e7",
   "metadata": {},
   "source": [
    "Now we are ready to define our LSTM model. Using the *Sequential* model structure in Keras, I have built a model with 5 layers, 10 hidden nodes per layer, and a dropout rate of 0.2 per layer to prevent overfitting. This is then fed into a Dense output layer with 4 class outputs, activated using the *softmax* function. NB these hyperparameters were found through trial and error, and may not be completely optimised as I did not implement a full grid-search."
   ]
  },
  {
   "cell_type": "code",
   "execution_count": 777,
   "id": "d6e4bb7b",
   "metadata": {},
   "outputs": [],
   "source": [
    "model = Sequential()\n",
    "model.add(LSTM(10,activation=\"relu\",input_shape = (max_len, num_feats),return_sequences=True))\n",
    "model.add(Dropout(0.2))\n",
    "model.add(LSTM(10,return_sequences=True))\n",
    "model.add(Dropout(0.2))\n",
    "model.add(LSTM(10,return_sequences=True))\n",
    "model.add(Dropout(0.2))\n",
    "model.add(LSTM(10,return_sequences=True))\n",
    "model.add(Dropout(0.2))\n",
    "model.add(LSTM(10))\n",
    "model.add(Dropout(0.2))\n",
    "model.add(Dense(4,activation=\"softmax\"))"
   ]
  },
  {
   "cell_type": "markdown",
   "id": "6d481849",
   "metadata": {},
   "source": [
    "Here we compile the model to use the *Adam* optimiser, *sparse categorical cross-entropy loss* (as it is a multi-class problem) and using *accuracy* as the metric to be monitored to judge performance."
   ]
  },
  {
   "cell_type": "code",
   "execution_count": 778,
   "id": "29af4b86",
   "metadata": {},
   "outputs": [],
   "source": [
    "model.compile(loss=\"sparse_categorical_crossentropy\",optimizer=\"adam\",metrics=[\"accuracy\"])"
   ]
  },
  {
   "cell_type": "markdown",
   "id": "eaaeb3bd",
   "metadata": {},
   "source": [
    "Here we define some checkpoints so that the model saves the best weights during the training process."
   ]
  },
  {
   "cell_type": "code",
   "execution_count": 779,
   "id": "85636031",
   "metadata": {},
   "outputs": [],
   "source": [
    "checkpoint = ModelCheckpoint('weights.hdf5',monitor=\"val_loss\",save_best_only=True)\n",
    "earlystop = EarlyStopping(monitor=\"val_accuracy\",patience=3,mode=\"max\")\n",
    "callbackslist = [checkpoint]"
   ]
  },
  {
   "cell_type": "markdown",
   "id": "ad9f2817",
   "metadata": {},
   "source": [
    "Time to train!"
   ]
  },
  {
   "cell_type": "code",
   "execution_count": 780,
   "id": "182b1af2",
   "metadata": {},
   "outputs": [
    {
     "name": "stdout",
     "output_type": "stream",
     "text": [
      "Epoch 1/50\n",
      "124/124 [==============================] - 10s 35ms/step - loss: 1.3733 - accuracy: 0.2903 - val_loss: 1.3416 - val_accuracy: 0.5000\n",
      "Epoch 2/50\n",
      "124/124 [==============================] - 3s 24ms/step - loss: 1.2623 - accuracy: 0.4839 - val_loss: 1.1867 - val_accuracy: 0.4688\n",
      "Epoch 3/50\n",
      "124/124 [==============================] - 3s 23ms/step - loss: 1.1236 - accuracy: 0.5242 - val_loss: 0.9278 - val_accuracy: 0.6875\n",
      "Epoch 4/50\n",
      "124/124 [==============================] - 3s 23ms/step - loss: 0.9289 - accuracy: 0.6613 - val_loss: 1.0644 - val_accuracy: 0.5938\n",
      "Epoch 5/50\n",
      "124/124 [==============================] - 3s 23ms/step - loss: 0.7289 - accuracy: 0.7339 - val_loss: 0.7852 - val_accuracy: 0.7188\n",
      "Epoch 6/50\n",
      "124/124 [==============================] - 3s 23ms/step - loss: 0.8450 - accuracy: 0.6452 - val_loss: 0.7141 - val_accuracy: 0.7812\n",
      "Epoch 7/50\n",
      "124/124 [==============================] - 3s 23ms/step - loss: 0.6894 - accuracy: 0.6774 - val_loss: 0.8550 - val_accuracy: 0.7188\n",
      "Epoch 8/50\n",
      "124/124 [==============================] - 3s 23ms/step - loss: 0.7507 - accuracy: 0.6371 - val_loss: 0.5592 - val_accuracy: 0.8438\n",
      "Epoch 9/50\n",
      "124/124 [==============================] - 3s 22ms/step - loss: 0.6306 - accuracy: 0.7661 - val_loss: 0.5688 - val_accuracy: 0.9062\n",
      "Epoch 10/50\n",
      "124/124 [==============================] - 3s 23ms/step - loss: 0.5547 - accuracy: 0.7823 - val_loss: 0.5786 - val_accuracy: 0.8125\n",
      "Epoch 11/50\n",
      "124/124 [==============================] - 3s 23ms/step - loss: 0.5456 - accuracy: 0.7903 - val_loss: 0.7922 - val_accuracy: 0.7500\n",
      "Epoch 12/50\n",
      "124/124 [==============================] - 3s 22ms/step - loss: 0.6388 - accuracy: 0.7823 - val_loss: 0.5859 - val_accuracy: 0.7812\n",
      "Epoch 13/50\n",
      "124/124 [==============================] - 3s 23ms/step - loss: 0.4239 - accuracy: 0.8629 - val_loss: 0.5342 - val_accuracy: 0.8750\n",
      "Epoch 14/50\n",
      "124/124 [==============================] - 3s 23ms/step - loss: 0.5602 - accuracy: 0.7903 - val_loss: 0.4028 - val_accuracy: 0.9375\n",
      "Epoch 15/50\n",
      "124/124 [==============================] - 3s 23ms/step - loss: 0.4736 - accuracy: 0.8226 - val_loss: 0.3126 - val_accuracy: 0.9062\n",
      "Epoch 16/50\n",
      "124/124 [==============================] - 3s 23ms/step - loss: 0.3638 - accuracy: 0.8952 - val_loss: 0.3811 - val_accuracy: 0.9062\n",
      "Epoch 17/50\n",
      "124/124 [==============================] - 3s 23ms/step - loss: 0.4331 - accuracy: 0.8468 - val_loss: 0.2824 - val_accuracy: 0.9062\n",
      "Epoch 18/50\n",
      "124/124 [==============================] - 3s 26ms/step - loss: 0.3570 - accuracy: 0.9113 - val_loss: 0.2358 - val_accuracy: 0.9375\n",
      "Epoch 19/50\n",
      "124/124 [==============================] - 3s 23ms/step - loss: 0.4236 - accuracy: 0.8548 - val_loss: 0.2885 - val_accuracy: 0.9375\n",
      "Epoch 20/50\n",
      "124/124 [==============================] - 3s 23ms/step - loss: 0.3197 - accuracy: 0.9435 - val_loss: 0.4344 - val_accuracy: 0.7812\n",
      "Epoch 21/50\n",
      "124/124 [==============================] - 3s 23ms/step - loss: 0.3252 - accuracy: 0.9194 - val_loss: 0.1483 - val_accuracy: 0.9688\n",
      "Epoch 22/50\n",
      "124/124 [==============================] - 3s 23ms/step - loss: 0.2729 - accuracy: 0.9194 - val_loss: 0.2385 - val_accuracy: 0.9062\n",
      "Epoch 23/50\n",
      "124/124 [==============================] - 3s 23ms/step - loss: 0.3280 - accuracy: 0.9194 - val_loss: 0.1740 - val_accuracy: 0.9688\n",
      "Epoch 24/50\n",
      "124/124 [==============================] - 3s 23ms/step - loss: 0.1699 - accuracy: 0.9677 - val_loss: 0.1443 - val_accuracy: 0.9688\n",
      "Epoch 25/50\n",
      "124/124 [==============================] - 3s 23ms/step - loss: 0.2570 - accuracy: 0.9274 - val_loss: 0.1030 - val_accuracy: 1.0000\n",
      "Epoch 26/50\n",
      "124/124 [==============================] - 3s 23ms/step - loss: 0.2060 - accuracy: 0.9516 - val_loss: 0.0961 - val_accuracy: 0.9688\n",
      "Epoch 27/50\n",
      "124/124 [==============================] - 3s 23ms/step - loss: 0.1533 - accuracy: 0.9839 - val_loss: 0.1482 - val_accuracy: 0.9688\n",
      "Epoch 28/50\n",
      "124/124 [==============================] - 3s 23ms/step - loss: 0.1034 - accuracy: 1.0000 - val_loss: 0.2622 - val_accuracy: 0.9062\n",
      "Epoch 29/50\n",
      "124/124 [==============================] - 3s 23ms/step - loss: 0.1033 - accuracy: 1.0000 - val_loss: 0.2416 - val_accuracy: 0.9375\n",
      "Epoch 30/50\n",
      "124/124 [==============================] - 3s 23ms/step - loss: 0.1879 - accuracy: 0.9516 - val_loss: 0.3369 - val_accuracy: 0.9375\n",
      "Epoch 31/50\n",
      "124/124 [==============================] - 3s 23ms/step - loss: 0.3683 - accuracy: 0.8952 - val_loss: 0.0672 - val_accuracy: 1.0000\n",
      "Epoch 32/50\n",
      "124/124 [==============================] - 3s 23ms/step - loss: 0.1811 - accuracy: 0.9677 - val_loss: 0.0525 - val_accuracy: 1.0000\n",
      "Epoch 33/50\n",
      "124/124 [==============================] - 3s 23ms/step - loss: 0.2210 - accuracy: 0.9355 - val_loss: 0.0667 - val_accuracy: 1.0000\n",
      "Epoch 34/50\n",
      "124/124 [==============================] - 3s 23ms/step - loss: 0.1659 - accuracy: 0.9839 - val_loss: 0.1558 - val_accuracy: 0.9688\n",
      "Epoch 35/50\n",
      "124/124 [==============================] - 3s 23ms/step - loss: 0.0947 - accuracy: 0.9919 - val_loss: 0.0364 - val_accuracy: 1.0000\n",
      "Epoch 36/50\n",
      "124/124 [==============================] - 3s 23ms/step - loss: 0.1140 - accuracy: 0.9839 - val_loss: 0.0593 - val_accuracy: 0.9688\n",
      "Epoch 37/50\n",
      "124/124 [==============================] - 3s 23ms/step - loss: 0.0949 - accuracy: 0.9758 - val_loss: 0.0271 - val_accuracy: 1.0000\n",
      "Epoch 38/50\n",
      "124/124 [==============================] - 3s 22ms/step - loss: 0.4686 - accuracy: 0.8871 - val_loss: 0.0339 - val_accuracy: 1.0000\n",
      "Epoch 39/50\n",
      "124/124 [==============================] - 3s 26ms/step - loss: 0.0918 - accuracy: 0.9919 - val_loss: 0.0395 - val_accuracy: 1.0000\n",
      "Epoch 40/50\n",
      "124/124 [==============================] - 3s 24ms/step - loss: 0.0697 - accuracy: 1.0000 - val_loss: 0.0267 - val_accuracy: 1.0000\n",
      "Epoch 41/50\n",
      "124/124 [==============================] - 3s 23ms/step - loss: 0.0685 - accuracy: 0.9919 - val_loss: 0.1349 - val_accuracy: 0.9688\n",
      "Epoch 42/50\n",
      "124/124 [==============================] - 3s 23ms/step - loss: 0.0618 - accuracy: 0.9919 - val_loss: 0.3065 - val_accuracy: 0.9375\n",
      "Epoch 43/50\n",
      "124/124 [==============================] - 3s 24ms/step - loss: 0.1152 - accuracy: 0.9839 - val_loss: 0.0188 - val_accuracy: 1.0000\n",
      "Epoch 44/50\n",
      "124/124 [==============================] - 3s 23ms/step - loss: 0.0504 - accuracy: 0.9919 - val_loss: 0.0167 - val_accuracy: 1.0000\n",
      "Epoch 45/50\n",
      "124/124 [==============================] - 3s 23ms/step - loss: 0.0440 - accuracy: 1.0000 - val_loss: 0.0145 - val_accuracy: 1.0000\n",
      "Epoch 46/50\n",
      "124/124 [==============================] - 3s 23ms/step - loss: 0.0323 - accuracy: 1.0000 - val_loss: 0.0125 - val_accuracy: 1.0000\n",
      "Epoch 47/50\n",
      "124/124 [==============================] - 3s 23ms/step - loss: 0.0725 - accuracy: 0.9919 - val_loss: 0.2761 - val_accuracy: 0.9375\n",
      "Epoch 48/50\n",
      "124/124 [==============================] - 3s 23ms/step - loss: 0.1489 - accuracy: 0.9677 - val_loss: 0.1870 - val_accuracy: 0.9375\n",
      "Epoch 49/50\n",
      "124/124 [==============================] - 3s 23ms/step - loss: 0.1777 - accuracy: 0.9435 - val_loss: 0.0426 - val_accuracy: 0.9688\n",
      "Epoch 50/50\n",
      "124/124 [==============================] - 3s 23ms/step - loss: 0.0314 - accuracy: 1.0000 - val_loss: 0.0115 - val_accuracy: 1.0000\n"
     ]
    }
   ],
   "source": [
    "training = model.fit(x_train,y_train,epochs=50,batch_size=1,validation_split=0.2,verbose=1,callbacks=callbackslist)\n",
    "history = training.history"
   ]
  },
  {
   "cell_type": "markdown",
   "id": "5553af87",
   "metadata": {},
   "source": [
    "Let's take a look at how the accuracy and loss changes during the training process"
   ]
  },
  {
   "cell_type": "code",
   "execution_count": 793,
   "id": "6a315859",
   "metadata": {},
   "outputs": [
    {
     "data": {
      "text/plain": [
       "<matplotlib.legend.Legend at 0x1633cf580>"
      ]
     },
     "execution_count": 793,
     "metadata": {},
     "output_type": "execute_result"
    },
    {
     "data": {
      "image/png": "[encoded data removed]",
      "text/plain": [
       "<Figure size 432x288 with 1 Axes>"
      ]
     },
     "metadata": {
      "needs_background": "light"
     },
     "output_type": "display_data"
    }
   ],
   "source": [
    "plt.plot(history[\"accuracy\"], label='Training accuracy')\n",
    "plt.plot(history[\"val_accuracy\"], label='Validation accuracy')\n",
    "plt.title('Training accuracy vs Validation accuracy')\n",
    "plt.xlabel('Epochs')\n",
    "plt.ylabel('Accuracy')\n",
    "plt.legend()"
   ]
  },
  {
   "cell_type": "code",
   "execution_count": 794,
   "id": "3dbaa56b",
   "metadata": {},
   "outputs": [
    {
     "data": {
      "text/plain": [
       "<matplotlib.legend.Legend at 0x1657acd00>"
      ]
     },
     "execution_count": 794,
     "metadata": {},
     "output_type": "execute_result"
    },
    {
     "data": {
      "image/png": "[encoded data removed]",
      "text/plain": [
       "<Figure size 432x288 with 1 Axes>"
      ]
     },
     "metadata": {
      "needs_background": "light"
     },
     "output_type": "display_data"
    }
   ],
   "source": [
    "plt.plot(history[\"loss\"], label='Training loss')\n",
    "plt.plot(history[\"val_loss\"], label='Validation loss')\n",
    "plt.title('Training loss vs Validation loss')\n",
    "plt.xlabel('Epochs')\n",
    "plt.ylabel('Loss')\n",
    "plt.legend()"
   ]
  },
  {
   "cell_type": "markdown",
   "id": "86c967d5",
   "metadata": {},
   "source": [
    "Finally, using the best model from our training data, lets make some predictions on the test data"
   ]
  },
  {
   "cell_type": "code",
   "execution_count": 795,
   "id": "7dea2b4a",
   "metadata": {},
   "outputs": [
    {
     "name": "stdout",
     "output_type": "stream",
     "text": [
      "39/39 [==============================] - 0s 6ms/step - loss: 0.0492 - accuracy: 0.9744\n",
      "test loss, test acc: [0.049229301512241364, 0.9743589758872986]\n"
     ]
    }
   ],
   "source": [
    "#Load best model\n",
    "model.load_weights('weights.hdf5')\n",
    "#Predict using best model\n",
    "results = model.evaluate(x_test,y_test,batch_size=1)\n",
    "print(\"test loss, test acc:\", results)"
   ]
  },
  {
   "cell_type": "markdown",
   "id": "183b20b4",
   "metadata": {},
   "source": [
    "We can see that using these model hyperparameters, we are able to get an accuracy of 97.4%! In this model we only used 4 of the 6 punch classes (10 if you include slips and rolls) that we have data for as including the other classes was found to significantly reduce the model performance. Inclusion of these classes without a reduction in performance can hopefully be achieved with more work on model design/feature engineering, feel free to clone this repository and have a go yourselves!"
   ]
  },
  {
   "cell_type": "code",
   "execution_count": null,
   "id": "1c049266",
   "metadata": {},
   "outputs": [],
   "source": []
  }
 ],
 "metadata": {
  "kernelspec": {
   "display_name": "Python 3 (ipykernel)",
   "language": "python",
   "name": "python3"
  },
  "language_info": {
   "codemirror_mode": {
    "name": "ipython",
    "version": 3
   },
   "file_extension": ".py",
   "mimetype": "text/x-python",
   "name": "python",
   "nbconvert_exporter": "python",
   "pygments_lexer": "ipython3",
   "version": "3.9.9"
  }
 },
 "nbformat": 4,
 "nbformat_minor": 5
}
